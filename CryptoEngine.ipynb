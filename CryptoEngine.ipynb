{
 "cells": [
  {
   "cell_type": "code",
   "execution_count": 1,
   "metadata": {},
   "outputs": [],
   "source": [
    "import re\n",
    "import tweepy\n",
    "from tweepy import OAuthHandler \n",
    "from textblob import TextBlob"
   ]
  },
  {
   "cell_type": "code",
   "execution_count": 3,
   "metadata": {},
   "outputs": [],
   "source": [
    "class TwitterClient(object):\n",
    "    \"\"\"\n",
    "    Twitter Client to connect for Sentiment Analysis\n",
    "    \"\"\"\n",
    "    def __init__(self):\n",
    "        \"\"\"\n",
    "        Constructor for authentication\n",
    "        \"\"\"\n",
    "        # keys and tokens from the Twitter Dev Console \n",
    "        consumer_key = 'KVgh1GEdJHeluRlO6AP3Nx0RJ'\n",
    "        consumer_secret = '2jg4XfIO4GbfiSA0Gya5P2jFWNem3NEgcrKd072vWpnufdC2ts'\n",
    "        access_token = 'b7DcNoFth8BTz0LQ0m4G8t3sN4BvnGbBSbmadxrp'\n",
    "        access_token_secret = '1r9UYIvBvrctwLDnG77erqEMeSDi8gMKuHyCKcPRpr0CH'\n",
    "  \n",
    "        # attempt authentication \n",
    "        try:\n",
    "            #Create OAuthHandler object\n",
    "            self.auth = OAuthHandler(consumer_key, consumer_secret)\n",
    "            #Set access token and secret\n",
    "            self.auth.set_access_token(access_token, access_token_secret)\n",
    "            #Create tweepy api to get tweets\n",
    "            self.api = tweepy.API(self.auth)\n",
    "            \n",
    "        except:\n",
    "            print(\"Error: Authenticatin Failure\")\n",
    "            \n",
    "            \n",
    "            "
   ]
  },
  {
   "cell_type": "code",
   "execution_count": null,
   "metadata": {},
   "outputs": [],
   "source": [
    "def get_tweets():\n",
    "    \"\"\"\n",
    "    Funcation to get tweets and parse them\n",
    "    empty list to store parsed tweets\n",
    "    \"\"\"\n",
    "    tweets = []\n",
    "    \n",
    "    try:\n",
    "        #Call twitter api to fetch  tweets\n",
    "        fetched_tweets = self.api.search(q = query, c = count)\n",
    "        \n",
    "        #parsing tweets one by one\n",
    "        for tweets in fetched_tweets:\n",
    "            #empty dictionaries to store key value pair\n",
    "            parsed_tweet = {}\n",
    "            \n",
    "            parsed_tweet['text'] = tweet.text\n",
    "            \n",
    "            #saving the sentiment of each tweet\n",
    "            parsed_tweet['sentiment'] = self.get_tweet_sentiment(tweet.text)\n",
    "            \n",
    "            #appending parsed tweets to tweet list\n",
    "            if tweet.retweet_count > 0:\n",
    "                #if retweet are more \n",
    "                if parsed_tweets not in tweets:\n",
    "                    tweets.append(parsed_tweets)\n",
    "                    \n",
    "                else:\n",
    "                    tweets.append(parsed_tweets)\n",
    "        \n",
    "        # return parsed tweets\n",
    "        return tweets\n",
    "    \n",
    "    except tweepy.TweepError as e:\n",
    "                \n",
    "        "
   ]
  }
 ],
 "metadata": {
  "kernelspec": {
   "display_name": "condaenv",
   "language": "python",
   "name": "myenv"
  },
  "language_info": {
   "codemirror_mode": {
    "name": "ipython",
    "version": 3
   },
   "file_extension": ".py",
   "mimetype": "text/x-python",
   "name": "python",
   "nbconvert_exporter": "python",
   "pygments_lexer": "ipython3",
   "version": "3.6.7"
  }
 },
 "nbformat": 4,
 "nbformat_minor": 2
}
